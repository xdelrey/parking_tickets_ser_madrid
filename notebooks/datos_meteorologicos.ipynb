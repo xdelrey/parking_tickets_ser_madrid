{
 "cells": [
  {
   "cell_type": "code",
   "execution_count": 105,
   "id": "673d1e72",
   "metadata": {},
   "outputs": [],
   "source": [
    "# Importamos librerias\n",
    "import requests\n",
    "import zipfile\n",
    "import pandas as pd\n",
    "import io\n",
    "import json\n",
    "from pathlib import Path"
   ]
  },
  {
   "cell_type": "markdown",
   "id": "34e0f614",
   "metadata": {},
   "source": [
    "<h3 style=\"color:yellow\">Consulta a la API de AEMET</h3>"
   ]
  },
  {
   "cell_type": "code",
   "execution_count": null,
   "id": "841f5f43",
   "metadata": {},
   "outputs": [],
   "source": [
    "# API Key\n",
    "AEMET_API_KEY = \"---\"\n",
    "\n",
    "# Estaciones Madrid\n",
    "ESTACION_RETIRO = \"3195\"\n",
    "ESTACION_CUATRO_VIENTOS = \"3196\"\n",
    "ESTACION_BARAJAS = \"3129\"\n",
    "\n",
    "# Fechas fi: fecha inicio / ff: fecha fin. \n",
    "# En 2 partes, ya que no permiten descargar datos de más de 6 meses\n",
    "fi_1 = \"2023-12-31T23:00:00UTC\" # 01/01/24 00:00:00 en madrid\n",
    "ff_1 = \"2024-06-30T21:59:59UTC\" # 30/06/24 23:59:59 en madrid\n",
    "fi_2 = \"2024-06-30T22:00:00UTC\" # 01/07/24 00:00:00 en madrid\n",
    "ff_2 = \"2024-12-31T22:59:59UTC\" # 31/12/24 23:59:59 en madrid\n",
    "\n",
    "# se necesita una URL con API Key para obtener otra URL desde donde obtener los datos concretos\n",
    "url = (\n",
    "    f\"https://opendata.aemet.es/opendata/api/valores/climatologicos/diarios/\"\n",
    "    f\"datos/fechaini/{fi_2}/fechafin/{ff_2}/estacion/{ESTACION_RETIRO}\"\n",
    ")"
   ]
  },
  {
   "cell_type": "code",
   "execution_count": 167,
   "id": "dec77e42",
   "metadata": {},
   "outputs": [],
   "source": [
    "response = requests.get(url, params={'api_key': AEMET_API_KEY})"
   ]
  },
  {
   "cell_type": "code",
   "execution_count": 168,
   "id": "0d093d4f",
   "metadata": {},
   "outputs": [
    {
     "name": "stdout",
     "output_type": "stream",
     "text": [
      "200\n"
     ]
    },
    {
     "data": {
      "text/plain": [
       "{'descripcion': 'exito',\n",
       " 'estado': 200,\n",
       " 'datos': 'https://opendata.aemet.es/opendata/sh/aa6992e0',\n",
       " 'metadatos': 'https://opendata.aemet.es/opendata/sh/b3aa9d28'}"
      ]
     },
     "execution_count": 168,
     "metadata": {},
     "output_type": "execute_result"
    }
   ],
   "source": [
    "print(response.status_code)\n",
    "response.json()"
   ]
  },
  {
   "cell_type": "code",
   "execution_count": 169,
   "id": "700a7265",
   "metadata": {},
   "outputs": [],
   "source": [
    "data_url = response.json()['datos']\n",
    "meta_url = response.json()['metadatos']"
   ]
  },
  {
   "cell_type": "code",
   "execution_count": 170,
   "id": "74ac8e4d",
   "metadata": {},
   "outputs": [],
   "source": [
    "data_response = requests.get(data_url)\n",
    "metadata_response = requests.get(meta_url)"
   ]
  },
  {
   "cell_type": "markdown",
   "id": "40967acb",
   "metadata": {},
   "source": [
    "<h3 style=\"color:yellow\">Datos de Ene-Jun y Jul-Dic</h3>\n",
    "<p style=\"color:yellow\">Finalmente sólo cogeré los datos de Retiro</p>"
   ]
  },
  {
   "cell_type": "code",
   "execution_count": 164,
   "id": "f5c21b34",
   "metadata": {},
   "outputs": [],
   "source": [
    "df_1 = pd.read_json(io.BytesIO(data_response.content), orient='records')"
   ]
  },
  {
   "cell_type": "code",
   "execution_count": 171,
   "id": "17558db2",
   "metadata": {},
   "outputs": [
    {
     "data": {
      "text/html": [
       "<div>\n",
       "<style scoped>\n",
       "    .dataframe tbody tr th:only-of-type {\n",
       "        vertical-align: middle;\n",
       "    }\n",
       "\n",
       "    .dataframe tbody tr th {\n",
       "        vertical-align: top;\n",
       "    }\n",
       "\n",
       "    .dataframe thead th {\n",
       "        text-align: right;\n",
       "    }\n",
       "</style>\n",
       "<table border=\"1\" class=\"dataframe\">\n",
       "  <thead>\n",
       "    <tr style=\"text-align: right;\">\n",
       "      <th></th>\n",
       "      <th>fecha</th>\n",
       "      <th>indicativo</th>\n",
       "      <th>nombre</th>\n",
       "      <th>provincia</th>\n",
       "      <th>altitud</th>\n",
       "      <th>tmed</th>\n",
       "      <th>prec</th>\n",
       "      <th>tmin</th>\n",
       "      <th>horatmin</th>\n",
       "      <th>tmax</th>\n",
       "      <th>...</th>\n",
       "      <th>horaracha</th>\n",
       "      <th>presMax</th>\n",
       "      <th>horaPresMax</th>\n",
       "      <th>presMin</th>\n",
       "      <th>horaPresMin</th>\n",
       "      <th>hrMedia</th>\n",
       "      <th>hrMax</th>\n",
       "      <th>horaHrMax</th>\n",
       "      <th>hrMin</th>\n",
       "      <th>horaHrMin</th>\n",
       "    </tr>\n",
       "  </thead>\n",
       "  <tbody>\n",
       "    <tr>\n",
       "      <th>0</th>\n",
       "      <td>2024-01-01</td>\n",
       "      <td>3195</td>\n",
       "      <td>MADRID, RETIRO</td>\n",
       "      <td>MADRID</td>\n",
       "      <td>667</td>\n",
       "      <td>6,6</td>\n",
       "      <td>0,0</td>\n",
       "      <td>3,8</td>\n",
       "      <td>08:50</td>\n",
       "      <td>9,4</td>\n",
       "      <td>...</td>\n",
       "      <td>15:50</td>\n",
       "      <td>945,1</td>\n",
       "      <td>23</td>\n",
       "      <td>940,8</td>\n",
       "      <td>03</td>\n",
       "      <td>85.0</td>\n",
       "      <td>99.0</td>\n",
       "      <td>Varias</td>\n",
       "      <td>62.0</td>\n",
       "      <td>15:30</td>\n",
       "    </tr>\n",
       "    <tr>\n",
       "      <th>1</th>\n",
       "      <td>2024-01-02</td>\n",
       "      <td>3195</td>\n",
       "      <td>MADRID, RETIRO</td>\n",
       "      <td>MADRID</td>\n",
       "      <td>667</td>\n",
       "      <td>5,5</td>\n",
       "      <td>2,0</td>\n",
       "      <td>2,8</td>\n",
       "      <td>05:50</td>\n",
       "      <td>8,2</td>\n",
       "      <td>...</td>\n",
       "      <td>02:10</td>\n",
       "      <td>945,2</td>\n",
       "      <td>11</td>\n",
       "      <td>941,7</td>\n",
       "      <td>24</td>\n",
       "      <td>92.0</td>\n",
       "      <td>99.0</td>\n",
       "      <td>Varias</td>\n",
       "      <td>83.0</td>\n",
       "      <td>13:20</td>\n",
       "    </tr>\n",
       "  </tbody>\n",
       "</table>\n",
       "<p>2 rows × 24 columns</p>\n",
       "</div>"
      ],
      "text/plain": [
       "        fecha  indicativo          nombre provincia  altitud tmed prec tmin  \\\n",
       "0  2024-01-01        3195  MADRID, RETIRO    MADRID      667  6,6  0,0  3,8   \n",
       "1  2024-01-02        3195  MADRID, RETIRO    MADRID      667  5,5  2,0  2,8   \n",
       "\n",
       "  horatmin tmax  ... horaracha  presMax horaPresMax presMin horaPresMin  \\\n",
       "0    08:50  9,4  ...     15:50    945,1          23   940,8          03   \n",
       "1    05:50  8,2  ...     02:10    945,2          11   941,7          24   \n",
       "\n",
       "  hrMedia hrMax horaHrMax hrMin  horaHrMin  \n",
       "0    85.0  99.0    Varias  62.0      15:30  \n",
       "1    92.0  99.0    Varias  83.0      13:20  \n",
       "\n",
       "[2 rows x 24 columns]"
      ]
     },
     "execution_count": 171,
     "metadata": {},
     "output_type": "execute_result"
    }
   ],
   "source": [
    "df_1.head(2)"
   ]
  },
  {
   "cell_type": "code",
   "execution_count": 172,
   "id": "30424827",
   "metadata": {},
   "outputs": [],
   "source": [
    "df_2 = pd.read_json(io.BytesIO(data_response.content), orient='records')"
   ]
  },
  {
   "cell_type": "code",
   "execution_count": 173,
   "id": "0501de3d",
   "metadata": {},
   "outputs": [
    {
     "data": {
      "text/html": [
       "<div>\n",
       "<style scoped>\n",
       "    .dataframe tbody tr th:only-of-type {\n",
       "        vertical-align: middle;\n",
       "    }\n",
       "\n",
       "    .dataframe tbody tr th {\n",
       "        vertical-align: top;\n",
       "    }\n",
       "\n",
       "    .dataframe thead th {\n",
       "        text-align: right;\n",
       "    }\n",
       "</style>\n",
       "<table border=\"1\" class=\"dataframe\">\n",
       "  <thead>\n",
       "    <tr style=\"text-align: right;\">\n",
       "      <th></th>\n",
       "      <th>fecha</th>\n",
       "      <th>indicativo</th>\n",
       "      <th>nombre</th>\n",
       "      <th>provincia</th>\n",
       "      <th>altitud</th>\n",
       "      <th>tmed</th>\n",
       "      <th>prec</th>\n",
       "      <th>tmin</th>\n",
       "      <th>horatmin</th>\n",
       "      <th>tmax</th>\n",
       "      <th>...</th>\n",
       "      <th>horaracha</th>\n",
       "      <th>presMax</th>\n",
       "      <th>horaPresMax</th>\n",
       "      <th>presMin</th>\n",
       "      <th>horaPresMin</th>\n",
       "      <th>hrMedia</th>\n",
       "      <th>hrMax</th>\n",
       "      <th>horaHrMax</th>\n",
       "      <th>hrMin</th>\n",
       "      <th>horaHrMin</th>\n",
       "    </tr>\n",
       "  </thead>\n",
       "  <tbody>\n",
       "    <tr>\n",
       "      <th>0</th>\n",
       "      <td>2024-07-01</td>\n",
       "      <td>3195</td>\n",
       "      <td>MADRID, RETIRO</td>\n",
       "      <td>MADRID</td>\n",
       "      <td>667</td>\n",
       "      <td>24,1</td>\n",
       "      <td>0,0</td>\n",
       "      <td>18,2</td>\n",
       "      <td>05:10</td>\n",
       "      <td>30,0</td>\n",
       "      <td>...</td>\n",
       "      <td>21:50</td>\n",
       "      <td>943,7</td>\n",
       "      <td>23</td>\n",
       "      <td>938,5</td>\n",
       "      <td>03</td>\n",
       "      <td>40.0</td>\n",
       "      <td>69.0</td>\n",
       "      <td>04:30</td>\n",
       "      <td>24.0</td>\n",
       "      <td>17:10</td>\n",
       "    </tr>\n",
       "    <tr>\n",
       "      <th>1</th>\n",
       "      <td>2024-07-02</td>\n",
       "      <td>3195</td>\n",
       "      <td>MADRID, RETIRO</td>\n",
       "      <td>MADRID</td>\n",
       "      <td>667</td>\n",
       "      <td>23,8</td>\n",
       "      <td>0,0</td>\n",
       "      <td>16,0</td>\n",
       "      <td>05:30</td>\n",
       "      <td>31,6</td>\n",
       "      <td>...</td>\n",
       "      <td>19:20</td>\n",
       "      <td>944,1</td>\n",
       "      <td>07</td>\n",
       "      <td>939,0</td>\n",
       "      <td>18</td>\n",
       "      <td>39.0</td>\n",
       "      <td>69.0</td>\n",
       "      <td>05:30</td>\n",
       "      <td>25.0</td>\n",
       "      <td>14:50</td>\n",
       "    </tr>\n",
       "  </tbody>\n",
       "</table>\n",
       "<p>2 rows × 24 columns</p>\n",
       "</div>"
      ],
      "text/plain": [
       "        fecha  indicativo          nombre provincia  altitud  tmed prec  tmin  \\\n",
       "0  2024-07-01        3195  MADRID, RETIRO    MADRID      667  24,1  0,0  18,2   \n",
       "1  2024-07-02        3195  MADRID, RETIRO    MADRID      667  23,8  0,0  16,0   \n",
       "\n",
       "  horatmin  tmax  ... horaracha  presMax horaPresMax presMin horaPresMin  \\\n",
       "0    05:10  30,0  ...     21:50    943,7          23   938,5          03   \n",
       "1    05:30  31,6  ...     19:20    944,1          07   939,0          18   \n",
       "\n",
       "  hrMedia hrMax horaHrMax hrMin  horaHrMin  \n",
       "0    40.0  69.0     04:30  24.0      17:10  \n",
       "1    39.0  69.0     05:30  25.0      14:50  \n",
       "\n",
       "[2 rows x 24 columns]"
      ]
     },
     "execution_count": 173,
     "metadata": {},
     "output_type": "execute_result"
    }
   ],
   "source": [
    "df_2.head(2)"
   ]
  },
  {
   "cell_type": "code",
   "execution_count": 175,
   "id": "8d42b735",
   "metadata": {},
   "outputs": [
    {
     "name": "stdout",
     "output_type": "stream",
     "text": [
      "Datos guardados en C:\\Users\\xabi\\Documents\\parking_tickets_ser_madrid\\docs\\aemet_datos_retiro_2024_1.json y C:\\Users\\xabi\\Documents\\parking_tickets_ser_madrid\\docs\\aemet_datos_retiro_2024_2.json.\n",
      "Metaatos guardados en C:\\Users\\xabi\\Documents\\parking_tickets_ser_madrid\\docs\\aemet_metadatos_retiro_2024.json.\n"
     ]
    }
   ],
   "source": [
    "path_1 = Path(\"../docs/aemet_datos_retiro_2024_1.json\")\n",
    "path_2 = Path(\"../docs/aemet_datos_retiro_2024_2.json\")\n",
    "path_meta = Path(\"../docs/aemet_metadatos_retiro_2024.json\")\n",
    "\n",
    "df_1.to_json(path_1, orient='records', force_ascii=False, indent=2)\n",
    "df_2.to_json(path_2, orient='records', force_ascii=False, indent=2)\n",
    "metadata_df.to_json(path_meta, orient='records', force_ascii=False, indent=2)\n",
    "\n",
    "print(f'Datos guardados en {path_1.resolve()} y {path_2.resolve()}.')\n",
    "print(f'Metadatos guardados en {path_meta.resolve()}.')"
   ]
  },
  {
   "cell_type": "markdown",
   "id": "ba0a2883",
   "metadata": {},
   "source": [
    "## Metadatos"
   ]
  },
  {
   "cell_type": "code",
   "execution_count": 130,
   "id": "f6661243",
   "metadata": {},
   "outputs": [
    {
     "name": "stderr",
     "output_type": "stream",
     "text": [
      "C:\\Users\\xabi\\AppData\\Local\\Temp\\ipykernel_12600\\2848166145.py:1: FutureWarning: Passing literal json to 'read_json' is deprecated and will be removed in a future version. To read from a literal string, wrap it in a 'StringIO' object.\n",
      "  metadata_df = pd.read_json(metadata_response.text, orient='records')\n"
     ]
    }
   ],
   "source": [
    "metadata_df = pd.read_json(metadata_response.text, orient='records')"
   ]
  },
  {
   "cell_type": "code",
   "execution_count": 106,
   "id": "e84c03dc",
   "metadata": {},
   "outputs": [
    {
     "name": "stdout",
     "output_type": "stream",
     "text": [
      "Metadatos guardados en C:\\Users\\xabi\\Documents\\parking_tickets_ser_madrid\\docs\\aemet_metadatos_retiro_2024.json.\n"
     ]
    }
   ],
   "source": [
    "path = Path(\"../docs/aemet_metadatos_retiro_2024.json\")\n",
    "metadata_df.to_json(path, orient='records', force_ascii=False, indent=2)\n",
    "\n",
    "print(f'Metadatos guardados en {path.resolve()}.')"
   ]
  },
  {
   "cell_type": "code",
   "execution_count": 180,
   "id": "1bc91b00",
   "metadata": {},
   "outputs": [
    {
     "data": {
      "text/plain": [
       "{'id': 'prec',\n",
       " 'descripcion': 'Precipitación diaria de 07 a 07',\n",
       " 'tipo_datos': 'float',\n",
       " 'unidad': 'mm (Ip = inferior a 0,1 mm) (Acum = Precipitación acumulada)',\n",
       " 'requerido': False}"
      ]
     },
     "execution_count": 180,
     "metadata": {},
     "output_type": "execute_result"
    }
   ],
   "source": [
    "metadata_df['campos'][6]"
   ]
  },
  {
   "cell_type": "markdown",
   "id": "ad0df7e5",
   "metadata": {},
   "source": [
    "<div style=\"text-align:center\">\n",
    "<h3 style=\"color:yellow;;\">⚠⚠⚠⚠⚠⚠⚠⚠⚠⚠⚠<br/> Este dataset sólo ofrece datos de precipitaciones diarias, no por horas</h3>\n",
    "</div>"
   ]
  },
  {
   "cell_type": "markdown",
   "id": "d09706a6",
   "metadata": {},
   "source": [
    "### Creando un único dataset con los datos diarios de 2024 para Retiro"
   ]
  },
  {
   "cell_type": "code",
   "execution_count": 182,
   "id": "5412c114",
   "metadata": {},
   "outputs": [],
   "source": [
    "df = pd.concat([df_1, df_2],\n",
    "    axis=0,\n",
    "    ignore_index=True\n",
    ")\n",
    "\n",
    "df = df.sort_values(\"fecha\").reset_index(drop=True)"
   ]
  },
  {
   "cell_type": "code",
   "execution_count": 187,
   "id": "0349d7da",
   "metadata": {},
   "outputs": [
    {
     "data": {
      "text/html": [
       "<div>\n",
       "<style scoped>\n",
       "    .dataframe tbody tr th:only-of-type {\n",
       "        vertical-align: middle;\n",
       "    }\n",
       "\n",
       "    .dataframe tbody tr th {\n",
       "        vertical-align: top;\n",
       "    }\n",
       "\n",
       "    .dataframe thead th {\n",
       "        text-align: right;\n",
       "    }\n",
       "</style>\n",
       "<table border=\"1\" class=\"dataframe\">\n",
       "  <thead>\n",
       "    <tr style=\"text-align: right;\">\n",
       "      <th></th>\n",
       "      <th>fecha</th>\n",
       "      <th>indicativo</th>\n",
       "      <th>nombre</th>\n",
       "      <th>provincia</th>\n",
       "      <th>altitud</th>\n",
       "      <th>tmed</th>\n",
       "      <th>prec</th>\n",
       "      <th>tmin</th>\n",
       "      <th>horatmin</th>\n",
       "      <th>tmax</th>\n",
       "      <th>...</th>\n",
       "      <th>horaracha</th>\n",
       "      <th>presMax</th>\n",
       "      <th>horaPresMax</th>\n",
       "      <th>presMin</th>\n",
       "      <th>horaPresMin</th>\n",
       "      <th>hrMedia</th>\n",
       "      <th>hrMax</th>\n",
       "      <th>horaHrMax</th>\n",
       "      <th>hrMin</th>\n",
       "      <th>horaHrMin</th>\n",
       "    </tr>\n",
       "  </thead>\n",
       "  <tbody>\n",
       "    <tr>\n",
       "      <th>0</th>\n",
       "      <td>2024-01-01</td>\n",
       "      <td>3195</td>\n",
       "      <td>MADRID, RETIRO</td>\n",
       "      <td>MADRID</td>\n",
       "      <td>667</td>\n",
       "      <td>6,6</td>\n",
       "      <td>0,0</td>\n",
       "      <td>3,8</td>\n",
       "      <td>08:50</td>\n",
       "      <td>9,4</td>\n",
       "      <td>...</td>\n",
       "      <td>15:50</td>\n",
       "      <td>945,1</td>\n",
       "      <td>23</td>\n",
       "      <td>940,8</td>\n",
       "      <td>03</td>\n",
       "      <td>85.0</td>\n",
       "      <td>99.0</td>\n",
       "      <td>Varias</td>\n",
       "      <td>62.0</td>\n",
       "      <td>15:30</td>\n",
       "    </tr>\n",
       "    <tr>\n",
       "      <th>1</th>\n",
       "      <td>2024-01-02</td>\n",
       "      <td>3195</td>\n",
       "      <td>MADRID, RETIRO</td>\n",
       "      <td>MADRID</td>\n",
       "      <td>667</td>\n",
       "      <td>5,5</td>\n",
       "      <td>2,0</td>\n",
       "      <td>2,8</td>\n",
       "      <td>05:50</td>\n",
       "      <td>8,2</td>\n",
       "      <td>...</td>\n",
       "      <td>02:10</td>\n",
       "      <td>945,2</td>\n",
       "      <td>11</td>\n",
       "      <td>941,7</td>\n",
       "      <td>24</td>\n",
       "      <td>92.0</td>\n",
       "      <td>99.0</td>\n",
       "      <td>Varias</td>\n",
       "      <td>83.0</td>\n",
       "      <td>13:20</td>\n",
       "    </tr>\n",
       "    <tr>\n",
       "      <th>2</th>\n",
       "      <td>2024-01-03</td>\n",
       "      <td>3195</td>\n",
       "      <td>MADRID, RETIRO</td>\n",
       "      <td>MADRID</td>\n",
       "      <td>667</td>\n",
       "      <td>10,1</td>\n",
       "      <td>2,7</td>\n",
       "      <td>8,1</td>\n",
       "      <td>00:00</td>\n",
       "      <td>12,1</td>\n",
       "      <td>...</td>\n",
       "      <td>16:00</td>\n",
       "      <td>942,7</td>\n",
       "      <td>10</td>\n",
       "      <td>940,1</td>\n",
       "      <td>18</td>\n",
       "      <td>99.0</td>\n",
       "      <td>99.0</td>\n",
       "      <td>Varias</td>\n",
       "      <td>91.0</td>\n",
       "      <td>22:00</td>\n",
       "    </tr>\n",
       "    <tr>\n",
       "      <th>3</th>\n",
       "      <td>2024-01-04</td>\n",
       "      <td>3195</td>\n",
       "      <td>MADRID, RETIRO</td>\n",
       "      <td>MADRID</td>\n",
       "      <td>667</td>\n",
       "      <td>9,4</td>\n",
       "      <td>9,7</td>\n",
       "      <td>8,2</td>\n",
       "      <td>00:40</td>\n",
       "      <td>10,6</td>\n",
       "      <td>...</td>\n",
       "      <td>19:50</td>\n",
       "      <td>941,9</td>\n",
       "      <td>00</td>\n",
       "      <td>931,8</td>\n",
       "      <td>24</td>\n",
       "      <td>99.0</td>\n",
       "      <td>99.0</td>\n",
       "      <td>Varias</td>\n",
       "      <td>96.0</td>\n",
       "      <td>11:50</td>\n",
       "    </tr>\n",
       "    <tr>\n",
       "      <th>4</th>\n",
       "      <td>2024-01-05</td>\n",
       "      <td>3195</td>\n",
       "      <td>MADRID, RETIRO</td>\n",
       "      <td>MADRID</td>\n",
       "      <td>667</td>\n",
       "      <td>6,6</td>\n",
       "      <td>0,1</td>\n",
       "      <td>4,6</td>\n",
       "      <td>06:20</td>\n",
       "      <td>8,6</td>\n",
       "      <td>...</td>\n",
       "      <td>22:00</td>\n",
       "      <td>936,3</td>\n",
       "      <td>24</td>\n",
       "      <td>929,8</td>\n",
       "      <td>05</td>\n",
       "      <td>71.0</td>\n",
       "      <td>99.0</td>\n",
       "      <td>Varias</td>\n",
       "      <td>53.0</td>\n",
       "      <td>15:40</td>\n",
       "    </tr>\n",
       "  </tbody>\n",
       "</table>\n",
       "<p>5 rows × 24 columns</p>\n",
       "</div>"
      ],
      "text/plain": [
       "        fecha  indicativo          nombre provincia  altitud  tmed prec tmin  \\\n",
       "0  2024-01-01        3195  MADRID, RETIRO    MADRID      667   6,6  0,0  3,8   \n",
       "1  2024-01-02        3195  MADRID, RETIRO    MADRID      667   5,5  2,0  2,8   \n",
       "2  2024-01-03        3195  MADRID, RETIRO    MADRID      667  10,1  2,7  8,1   \n",
       "3  2024-01-04        3195  MADRID, RETIRO    MADRID      667   9,4  9,7  8,2   \n",
       "4  2024-01-05        3195  MADRID, RETIRO    MADRID      667   6,6  0,1  4,6   \n",
       "\n",
       "  horatmin  tmax  ... horaracha  presMax horaPresMax presMin horaPresMin  \\\n",
       "0    08:50   9,4  ...     15:50    945,1          23   940,8          03   \n",
       "1    05:50   8,2  ...     02:10    945,2          11   941,7          24   \n",
       "2    00:00  12,1  ...     16:00    942,7          10   940,1          18   \n",
       "3    00:40  10,6  ...     19:50    941,9          00   931,8          24   \n",
       "4    06:20   8,6  ...     22:00    936,3          24   929,8          05   \n",
       "\n",
       "  hrMedia hrMax horaHrMax hrMin  horaHrMin  \n",
       "0    85.0  99.0    Varias  62.0      15:30  \n",
       "1    92.0  99.0    Varias  83.0      13:20  \n",
       "2    99.0  99.0    Varias  91.0      22:00  \n",
       "3    99.0  99.0    Varias  96.0      11:50  \n",
       "4    71.0  99.0    Varias  53.0      15:40  \n",
       "\n",
       "[5 rows x 24 columns]"
      ]
     },
     "execution_count": 187,
     "metadata": {},
     "output_type": "execute_result"
    }
   ],
   "source": [
    "df.head()"
   ]
  },
  {
   "cell_type": "code",
   "execution_count": 188,
   "id": "94e465dc",
   "metadata": {},
   "outputs": [
    {
     "name": "stdout",
     "output_type": "stream",
     "text": [
      "<class 'pandas.core.frame.DataFrame'>\n",
      "RangeIndex: 366 entries, 0 to 365\n",
      "Data columns (total 24 columns):\n",
      " #   Column       Non-Null Count  Dtype  \n",
      "---  ------       --------------  -----  \n",
      " 0   fecha        366 non-null    object \n",
      " 1   indicativo   366 non-null    int64  \n",
      " 2   nombre       366 non-null    object \n",
      " 3   provincia    366 non-null    object \n",
      " 4   altitud      366 non-null    int64  \n",
      " 5   tmed         358 non-null    object \n",
      " 6   prec         366 non-null    object \n",
      " 7   tmin         358 non-null    object \n",
      " 8   horatmin     358 non-null    object \n",
      " 9   tmax         358 non-null    object \n",
      " 10  horatmax     358 non-null    object \n",
      " 11  dir          361 non-null    float64\n",
      " 12  velmedia     363 non-null    object \n",
      " 13  racha        361 non-null    object \n",
      " 14  horaracha    361 non-null    object \n",
      " 15  presMax      348 non-null    object \n",
      " 16  horaPresMax  348 non-null    object \n",
      " 17  presMin      347 non-null    object \n",
      " 18  horaPresMin  347 non-null    object \n",
      " 19  hrMedia      349 non-null    float64\n",
      " 20  hrMax        334 non-null    float64\n",
      " 21  horaHrMax    334 non-null    object \n",
      " 22  hrMin        334 non-null    float64\n",
      " 23  horaHrMin    334 non-null    object \n",
      "dtypes: float64(4), int64(2), object(18)\n",
      "memory usage: 68.8+ KB\n"
     ]
    }
   ],
   "source": [
    "df.info()"
   ]
  },
  {
   "cell_type": "markdown",
   "id": "d88c6cdc",
   "metadata": {},
   "source": [
    "### Guardamos los datos en CSV"
   ]
  },
  {
   "cell_type": "code",
   "execution_count": 189,
   "id": "d78ab879",
   "metadata": {},
   "outputs": [],
   "source": [
    "df.to_csv('../data/aemet_datos_retiro_2024.csv', index=False, encoding='utf-8')"
   ]
  }
 ],
 "metadata": {
  "kernelspec": {
   "display_name": "Python 3",
   "language": "python",
   "name": "python3"
  },
  "language_info": {
   "codemirror_mode": {
    "name": "ipython",
    "version": 3
   },
   "file_extension": ".py",
   "mimetype": "text/x-python",
   "name": "python",
   "nbconvert_exporter": "python",
   "pygments_lexer": "ipython3",
   "version": "3.11.0"
  }
 },
 "nbformat": 4,
 "nbformat_minor": 5
}
